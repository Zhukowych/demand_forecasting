{
 "cells": [
  {
   "cell_type": "markdown",
   "metadata": {},
   "source": [
    "### Dataset collection"
   ]
  },
  {
   "cell_type": "markdown",
   "metadata": {},
   "source": [
    "MySQL query to load all `account_items`\n",
    "\n",
    "```mysql\n",
    "select\n",
    "    product_id, count, price, total, account.date\n",
    "from account_item\n",
    "inner join account on account_item.account_id = account.id\n",
    "where account.variant = 3;\n",
    "```\n",
    "\n",
    "MySQL query to load products data\n",
    "\n",
    "```mysql\n",
    "select\n",
    "    product_id, product.name, product_group.name\n",
    "from product_groups\n",
    "inner join product_group on product_group.id = group_id\n",
    "inner join product on product.id = product_groups.product_id\n",
    "where product_id in (select product_id\n",
    "                     from account_item\n",
    "                              inner join account on account_item.account_id = account.id\n",
    "                     where account.variant = 3)\n",
    "```\n",
    "\n",
    "To select product crosses\n",
    "\n",
    "``` mysql\n",
    "select\n",
    "    product_id, cross_product_id\n",
    "from product_cross\n",
    "where product_id in (select product_id\n",
    "                     from account_item\n",
    "                              inner join account on account_item.account_id = account.id\n",
    "                     where account.variant = 3)\n",
    "and cross_product_id in (select product_id\n",
    "                         from account_item\n",
    "                                  inner join account on account_item.account_id = account.id\n",
    "                         where account.variant = 3);\n",
    "\n",
    "```"
   ]
  },
  {
   "cell_type": "code",
   "execution_count": 4,
   "metadata": {},
   "outputs": [],
   "source": [
    "import pandas as pd"
   ]
  },
  {
   "cell_type": "code",
   "execution_count": 16,
   "metadata": {},
   "outputs": [],
   "source": [
    "account_items_df = pd.read_csv(\"account_items.csv\")\n",
    "product_info_df = pd.read_csv(\"product_information.csv\")\n",
    "crosses_info_df = pd.read_csv(\"crosses.csv\")"
   ]
  },
  {
   "cell_type": "code",
   "execution_count": 9,
   "metadata": {},
   "outputs": [
    {
     "data": {
      "text/html": [
       "<div>\n",
       "<style scoped>\n",
       "    .dataframe tbody tr th:only-of-type {\n",
       "        vertical-align: middle;\n",
       "    }\n",
       "\n",
       "    .dataframe tbody tr th {\n",
       "        vertical-align: top;\n",
       "    }\n",
       "\n",
       "    .dataframe thead th {\n",
       "        text-align: right;\n",
       "    }\n",
       "</style>\n",
       "<table border=\"1\" class=\"dataframe\">\n",
       "  <thead>\n",
       "    <tr style=\"text-align: right;\">\n",
       "      <th></th>\n",
       "      <th>product_id</th>\n",
       "      <th>count</th>\n",
       "      <th>price</th>\n",
       "      <th>total</th>\n",
       "      <th>date</th>\n",
       "    </tr>\n",
       "  </thead>\n",
       "  <tbody>\n",
       "    <tr>\n",
       "      <th>0</th>\n",
       "      <td>1474225</td>\n",
       "      <td>1</td>\n",
       "      <td>7.66</td>\n",
       "      <td>7.66</td>\n",
       "      <td>2019-02-08 08:51:41</td>\n",
       "    </tr>\n",
       "    <tr>\n",
       "      <th>1</th>\n",
       "      <td>42219302</td>\n",
       "      <td>1</td>\n",
       "      <td>3.05</td>\n",
       "      <td>3.05</td>\n",
       "      <td>2019-02-08 08:52:45</td>\n",
       "    </tr>\n",
       "    <tr>\n",
       "      <th>2</th>\n",
       "      <td>1396497</td>\n",
       "      <td>1</td>\n",
       "      <td>1.80</td>\n",
       "      <td>1.80</td>\n",
       "      <td>2019-02-08 08:53:30</td>\n",
       "    </tr>\n",
       "    <tr>\n",
       "      <th>3</th>\n",
       "      <td>42219306</td>\n",
       "      <td>1</td>\n",
       "      <td>13.05</td>\n",
       "      <td>13.05</td>\n",
       "      <td>2019-02-08 08:53:30</td>\n",
       "    </tr>\n",
       "    <tr>\n",
       "      <th>4</th>\n",
       "      <td>44571735</td>\n",
       "      <td>1</td>\n",
       "      <td>2.02</td>\n",
       "      <td>2.02</td>\n",
       "      <td>2019-02-08 08:53:30</td>\n",
       "    </tr>\n",
       "  </tbody>\n",
       "</table>\n",
       "</div>"
      ],
      "text/plain": [
       "   product_id   count   price   total                 date\n",
       "0     1474225       1    7.66    7.66  2019-02-08 08:51:41\n",
       "1    42219302       1    3.05    3.05  2019-02-08 08:52:45\n",
       "2     1396497       1    1.80    1.80  2019-02-08 08:53:30\n",
       "3    42219306       1   13.05   13.05  2019-02-08 08:53:30\n",
       "4    44571735       1    2.02    2.02  2019-02-08 08:53:30"
      ]
     },
     "execution_count": 9,
     "metadata": {},
     "output_type": "execute_result"
    }
   ],
   "source": [
    "account_items_df.head()"
   ]
  },
  {
   "cell_type": "code",
   "execution_count": 10,
   "metadata": {},
   "outputs": [
    {
     "data": {
      "text/html": [
       "<div>\n",
       "<style scoped>\n",
       "    .dataframe tbody tr th:only-of-type {\n",
       "        vertical-align: middle;\n",
       "    }\n",
       "\n",
       "    .dataframe tbody tr th {\n",
       "        vertical-align: top;\n",
       "    }\n",
       "\n",
       "    .dataframe thead th {\n",
       "        text-align: right;\n",
       "    }\n",
       "</style>\n",
       "<table border=\"1\" class=\"dataframe\">\n",
       "  <thead>\n",
       "    <tr style=\"text-align: right;\">\n",
       "      <th></th>\n",
       "      <th>product_id</th>\n",
       "      <th>product_name</th>\n",
       "      <th>group_name</th>\n",
       "    </tr>\n",
       "  </thead>\n",
       "  <tbody>\n",
       "    <tr>\n",
       "      <th>0</th>\n",
       "      <td>16632</td>\n",
       "      <td>Центральный выключатель, система сцепления</td>\n",
       "      <td>Деталі трансмісії транспорту</td>\n",
       "    </tr>\n",
       "    <tr>\n",
       "      <th>1</th>\n",
       "      <td>17290</td>\n",
       "      <td>Підшипник зчеплення</td>\n",
       "      <td>Деталі трансмісії транспорту</td>\n",
       "    </tr>\n",
       "    <tr>\n",
       "      <th>2</th>\n",
       "      <td>17359</td>\n",
       "      <td>Насос зчеплення</td>\n",
       "      <td>Деталі трансмісії транспорту</td>\n",
       "    </tr>\n",
       "    <tr>\n",
       "      <th>3</th>\n",
       "      <td>19334</td>\n",
       "      <td>Зчеплення (набір) + підшипник</td>\n",
       "      <td>Деталі трансмісії транспорту</td>\n",
       "    </tr>\n",
       "    <tr>\n",
       "      <th>4</th>\n",
       "      <td>20346</td>\n",
       "      <td>Зчеплення (набір) + підшипник</td>\n",
       "      <td>Деталі трансмісії транспорту</td>\n",
       "    </tr>\n",
       "  </tbody>\n",
       "</table>\n",
       "</div>"
      ],
      "text/plain": [
       "   product_id                                product_name  \\\n",
       "0       16632  Центральный выключатель, система сцепления   \n",
       "1       17290                         Підшипник зчеплення   \n",
       "2       17359                             Насос зчеплення   \n",
       "3       19334               Зчеплення (набір) + підшипник   \n",
       "4       20346               Зчеплення (набір) + підшипник   \n",
       "\n",
       "                     group_name  \n",
       "0  Деталі трансмісії транспорту  \n",
       "1  Деталі трансмісії транспорту  \n",
       "2  Деталі трансмісії транспорту  \n",
       "3  Деталі трансмісії транспорту  \n",
       "4  Деталі трансмісії транспорту  "
      ]
     },
     "execution_count": 10,
     "metadata": {},
     "output_type": "execute_result"
    }
   ],
   "source": [
    "product_info_df.head()"
   ]
  },
  {
   "cell_type": "code",
   "execution_count": 11,
   "metadata": {},
   "outputs": [
    {
     "data": {
      "text/html": [
       "<div>\n",
       "<style scoped>\n",
       "    .dataframe tbody tr th:only-of-type {\n",
       "        vertical-align: middle;\n",
       "    }\n",
       "\n",
       "    .dataframe tbody tr th {\n",
       "        vertical-align: top;\n",
       "    }\n",
       "\n",
       "    .dataframe thead th {\n",
       "        text-align: right;\n",
       "    }\n",
       "</style>\n",
       "<table border=\"1\" class=\"dataframe\">\n",
       "  <thead>\n",
       "    <tr style=\"text-align: right;\">\n",
       "      <th></th>\n",
       "      <th>product_id</th>\n",
       "      <th>cross_product_id</th>\n",
       "    </tr>\n",
       "  </thead>\n",
       "  <tbody>\n",
       "    <tr>\n",
       "      <th>0</th>\n",
       "      <td>42219306</td>\n",
       "      <td>44560075</td>\n",
       "    </tr>\n",
       "    <tr>\n",
       "      <th>1</th>\n",
       "      <td>2283784</td>\n",
       "      <td>5871020</td>\n",
       "    </tr>\n",
       "    <tr>\n",
       "      <th>2</th>\n",
       "      <td>36925441</td>\n",
       "      <td>37037941</td>\n",
       "    </tr>\n",
       "    <tr>\n",
       "      <th>3</th>\n",
       "      <td>1203948</td>\n",
       "      <td>51156853</td>\n",
       "    </tr>\n",
       "    <tr>\n",
       "      <th>4</th>\n",
       "      <td>2380323</td>\n",
       "      <td>40980404</td>\n",
       "    </tr>\n",
       "  </tbody>\n",
       "</table>\n",
       "</div>"
      ],
      "text/plain": [
       "   product_id   cross_product_id\n",
       "0    42219306           44560075\n",
       "1     2283784            5871020\n",
       "2    36925441           37037941\n",
       "3     1203948           51156853\n",
       "4     2380323           40980404"
      ]
     },
     "execution_count": 11,
     "metadata": {},
     "output_type": "execute_result"
    }
   ],
   "source": [
    "crosses_info_df.head()"
   ]
  },
  {
   "cell_type": "code",
   "execution_count": 21,
   "metadata": {},
   "outputs": [],
   "source": [
    "df = pd.merge(left=account_items_df, right=product_info_df, on=\"product_id\")"
   ]
  },
  {
   "cell_type": "code",
   "execution_count": 23,
   "metadata": {},
   "outputs": [],
   "source": [
    "df.to_csv(\"dataset.csv\", index=False)"
   ]
  }
 ],
 "metadata": {
  "kernelspec": {
   "display_name": ".env",
   "language": "python",
   "name": "python3"
  },
  "language_info": {
   "codemirror_mode": {
    "name": "ipython",
    "version": 3
   },
   "file_extension": ".py",
   "mimetype": "text/x-python",
   "name": "python",
   "nbconvert_exporter": "python",
   "pygments_lexer": "ipython3",
   "version": "3.11.10"
  }
 },
 "nbformat": 4,
 "nbformat_minor": 2
}
