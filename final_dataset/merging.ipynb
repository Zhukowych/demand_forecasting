{
 "cells": [
  {
   "cell_type": "code",
   "execution_count": 2,
   "metadata": {},
   "outputs": [],
   "source": [
    "import pandas as pd"
   ]
  },
  {
   "cell_type": "markdown",
   "metadata": {},
   "source": [
    "# Components"
   ]
  },
  {
   "cell_type": "markdown",
   "metadata": {},
   "source": [
    "### Incidence by region and age groups"
   ]
  },
  {
   "cell_type": "code",
   "execution_count": 3,
   "metadata": {},
   "outputs": [],
   "source": [
    "incidence = pd.read_csv(\"incidence.csv\")"
   ]
  },
  {
   "cell_type": "markdown",
   "metadata": {},
   "source": [
    "### Incidence by region and stage"
   ]
  },
  {
   "cell_type": "code",
   "execution_count": 4,
   "metadata": {},
   "outputs": [],
   "source": [
    "stage_incidence = pd.read_csv(\"stage_date.csv\")"
   ]
  },
  {
   "cell_type": "markdown",
   "metadata": {},
   "source": [
    "#### F470100"
   ]
  },
  {
   "cell_type": "code",
   "execution_count": 5,
   "metadata": {},
   "outputs": [],
   "source": [
    "f47_0100_df = pd.read_csv(\"F470100.csv\")\n",
    "f47_0100_df['category'] = f47_0100_df.category.str.replace(' ', '')\n",
    "aggregated_f47_0100_df = f47_0100_df[f47_0100_df['category'] == \"ВСЬОГО\"]"
   ]
  },
  {
   "cell_type": "markdown",
   "metadata": {},
   "source": [
    "#### F471700 - equipment"
   ]
  },
  {
   "cell_type": "code",
   "execution_count": 6,
   "metadata": {},
   "outputs": [],
   "source": [
    "f_47_1700_df = pd.read_csv('F471700.csv')\n",
    "\n",
    "categories_variables = {\n",
    "    \"nx_ray\": \"Чис.закл.,які мають:рентг.від.(каб)\",\n",
    "    \"nflurography\": \"флюорографiчнi вiддiлення (кабiнети)\",\n",
    "    \"nradiology\": \"радiологiчнi (променевої терапiї)\",\n",
    "    \"nradlab\": \"лабораторії радіоізотопної діагност.\",\n",
    "    \"nсt\": \"комп'ютерної томографії\",\n",
    "    \"ncardiogram\": \"каб.електрокардіог.та функц.діагност.\",\n",
    "    \"ndiaglab\": \"клініко-діагностичні лабораторії\",\n",
    "    \"nbacter\": \"бактеріологічні лабораторії\",\n",
    "    \"nbiochem\": \"біохімічні лабораторії\",\n",
    "    \"ncyto\": \"цитологічні лабораторії\",\n",
    "    \"nimun\": \"імунологічні лабораторії\",\n",
    "    \"nphysic\": \"фізіотерапевтичні відділення (каб.)\",\n",
    "    \"nendoscop\": \"ендоскопічні відділення (кабінети)\",\n",
    "    \"nultrasound\": \"ультразвукової діагностики\",\n",
    "    \"ndialysis\": \"відділення нефрології та діалізу\"\n",
    "}\n",
    "\n",
    "equipment_dfs = []\n",
    "for column_name, category in categories_variables.items():\n",
    "    df = f_47_1700_df[f_47_1700_df['category'] == category][['year', 'region', 'total']]\n",
    "    df = df.rename(columns={\"total\": column_name})\n",
    "    if len(df) == 0:\n",
    "        raise Exception(\"inconsistent\")\n",
    "    equipment_dfs.append(df)\n",
    "\n",
    "equipment_df = equipment_dfs[0]\n",
    "for df in equipment_dfs[1:]:\n",
    "    equipment_df = pd.merge(equipment_df, df, on=[\"year\", \"region\"], how=\"outer\")"
   ]
  },
  {
   "cell_type": "markdown",
   "metadata": {},
   "source": [
    "### Air pollution"
   ]
  },
  {
   "cell_type": "code",
   "execution_count": 7,
   "metadata": {},
   "outputs": [],
   "source": [
    "air_pollution_df = pd.read_csv(\"air_polution.csv\")\n",
    "air_pollution_df = air_pollution_df.rename(columns={'Region': 'region'})\n",
    "\n",
    "air_pollution_df = air_pollution_df[air_pollution_df['year'] >= 2008]"
   ]
  },
  {
   "cell_type": "markdown",
   "metadata": {},
   "source": [
    "### Water pollution"
   ]
  },
  {
   "cell_type": "code",
   "execution_count": 8,
   "metadata": {},
   "outputs": [],
   "source": [
    "water_pollution = pd.read_csv(\"merged_dumps.csv\")\n",
    "water_pollution = water_pollution.rename(columns={'Region': 'region'})\n",
    "\n",
    "water_pollution = water_pollution[water_pollution['year'] >= 2008]"
   ]
  },
  {
   "cell_type": "markdown",
   "metadata": {},
   "source": [
    "### GDP"
   ]
  },
  {
   "cell_type": "code",
   "execution_count": 9,
   "metadata": {},
   "outputs": [],
   "source": [
    "gdp = pd.read_csv(\"gdp.csv\")\n",
    "gdp = gdp.rename(columns={\"Region\": \"region\"})\n",
    "\n",
    "gdp = gdp[gdp['year'] >= 2008]"
   ]
  },
  {
   "cell_type": "markdown",
   "metadata": {},
   "source": [
    "### CPI"
   ]
  },
  {
   "cell_type": "code",
   "execution_count": 10,
   "metadata": {},
   "outputs": [],
   "source": [
    "cpi = pd.read_csv(\"inflation.csv\", sep=r\"\\s+\")\n",
    "cpi.cpi = cpi.cpi.map(lambda x: float(x.replace(',', '.')))\n",
    "\n",
    "cpi = cpi[cpi['year'] >= 2008]"
   ]
  },
  {
   "cell_type": "markdown",
   "metadata": {},
   "source": [
    "### Population"
   ]
  },
  {
   "cell_type": "code",
   "execution_count": 15,
   "metadata": {},
   "outputs": [
    {
     "data": {
      "text/html": [
       "<div>\n",
       "<style scoped>\n",
       "    .dataframe tbody tr th:only-of-type {\n",
       "        vertical-align: middle;\n",
       "    }\n",
       "\n",
       "    .dataframe tbody tr th {\n",
       "        vertical-align: top;\n",
       "    }\n",
       "\n",
       "    .dataframe thead th {\n",
       "        text-align: right;\n",
       "    }\n",
       "</style>\n",
       "<table border=\"1\" class=\"dataframe\">\n",
       "  <thead>\n",
       "    <tr style=\"text-align: right;\">\n",
       "      <th></th>\n",
       "      <th>region</th>\n",
       "      <th>year</th>\n",
       "      <th>population</th>\n",
       "    </tr>\n",
       "  </thead>\n",
       "  <tbody>\n",
       "    <tr>\n",
       "      <th>0</th>\n",
       "      <td>Автономна Республіка Крим</td>\n",
       "      <td>1989</td>\n",
       "      <td>2063600.0</td>\n",
       "    </tr>\n",
       "    <tr>\n",
       "      <th>1</th>\n",
       "      <td>Автономна Республіка Крим</td>\n",
       "      <td>1990</td>\n",
       "      <td>2102400.0</td>\n",
       "    </tr>\n",
       "    <tr>\n",
       "      <th>2</th>\n",
       "      <td>Автономна Республіка Крим</td>\n",
       "      <td>1991</td>\n",
       "      <td>2146500.0</td>\n",
       "    </tr>\n",
       "    <tr>\n",
       "      <th>3</th>\n",
       "      <td>Автономна Республіка Крим</td>\n",
       "      <td>1992</td>\n",
       "      <td>2184500.0</td>\n",
       "    </tr>\n",
       "    <tr>\n",
       "      <th>4</th>\n",
       "      <td>Автономна Республіка Крим</td>\n",
       "      <td>1993</td>\n",
       "      <td>2222700.0</td>\n",
       "    </tr>\n",
       "  </tbody>\n",
       "</table>\n",
       "</div>"
      ],
      "text/plain": [
       "                      region  year  population\n",
       "0  Автономна Республіка Крим  1989   2063600.0\n",
       "1  Автономна Республіка Крим  1990   2102400.0\n",
       "2  Автономна Республіка Крим  1991   2146500.0\n",
       "3  Автономна Республіка Крим  1992   2184500.0\n",
       "4  Автономна Республіка Крим  1993   2222700.0"
      ]
     },
     "execution_count": 15,
     "metadata": {},
     "output_type": "execute_result"
    }
   ],
   "source": [
    "population = pd.read_csv(\"population.csv\")\n",
    "population = population.rename(columns={\"Територіальний розріз\": \"region\", \"Період\": \"year\", \"Значення cпостереження\": \"population\"})\n",
    "\n",
    "population.head()"
   ]
  },
  {
   "cell_type": "markdown",
   "metadata": {},
   "source": [
    "# Datasets"
   ]
  },
  {
   "cell_type": "markdown",
   "metadata": {},
   "source": [
    "### Age Group - dataset"
   ]
  },
  {
   "cell_type": "code",
   "execution_count": 16,
   "metadata": {},
   "outputs": [],
   "source": [
    "age_group_incidence = pd.merge(incidence, aggregated_f47_0100_df, on=['year', 'region'], how='outer')\n",
    "age_group_incidence = pd.merge(age_group_incidence, equipment_df, on=[\"year\", \"region\"], how=\"outer\")\n",
    "age_group_incidence = pd.merge(age_group_incidence, gdp, on=[\"year\", \"region\"], how=\"outer\")\n",
    "age_group_incidence = pd.merge(age_group_incidence, air_pollution_df, on=[\"year\", \"region\"], how=\"outer\")\n",
    "age_group_incidence = pd.merge(age_group_incidence, water_pollution, on=[\"year\", \"region\"], how=\"outer\")\n",
    "age_group_incidence = pd.merge(age_group_incidence, cpi, on=\"year\", how=\"outer\")\n",
    "age_group_incidence = pd.merge(age_group_incidence, population, on=['year', 'region'], how='outer')\n",
    "\n",
    "age_group_incidence.to_csv(\"age_group_incidence.csv\")"
   ]
  },
  {
   "cell_type": "markdown",
   "metadata": {},
   "source": [
    "### Stage dataset"
   ]
  },
  {
   "cell_type": "code",
   "execution_count": 18,
   "metadata": {},
   "outputs": [],
   "source": [
    "stage_dataset = pd.merge(stage_incidence, aggregated_f47_0100_df, on=['year', 'region'], how='outer')\n",
    "stage_dataset = pd.merge(stage_dataset, equipment_df, on=[\"year\", \"region\"], how=\"outer\")\n",
    "stage_dataset = pd.merge(stage_dataset, gdp, on=[\"year\", \"region\"], how=\"outer\")\n",
    "stage_dataset = pd.merge(stage_dataset, air_pollution_df, on=[\"year\", \"region\"], how=\"outer\")\n",
    "stage_dataset = pd.merge(stage_dataset, water_pollution, on=[\"year\", \"region\"], how=\"outer\")\n",
    "stage_dataset = pd.merge(stage_dataset, cpi, on=\"year\", how=\"outer\")\n",
    "stage_dataset = pd.merge(stage_dataset, population, on=['year', 'region'], how='outer')\n",
    "\n",
    "stage_dataset.to_csv(\"stage_incidence.csv\")"
   ]
  }
 ],
 "metadata": {
  "kernelspec": {
   "display_name": "ml",
   "language": "python",
   "name": "python3"
  },
  "language_info": {
   "codemirror_mode": {
    "name": "ipython",
    "version": 3
   },
   "file_extension": ".py",
   "mimetype": "text/x-python",
   "name": "python",
   "nbconvert_exporter": "python",
   "pygments_lexer": "ipython3",
   "version": "3.12.3"
  }
 },
 "nbformat": 4,
 "nbformat_minor": 2
}
