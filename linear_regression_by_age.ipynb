{
 "cells": [
  {
   "cell_type": "code",
   "execution_count": 28,
   "metadata": {},
   "outputs": [],
   "source": [
    "import pandas as pd\n",
    "import numpy as np\n",
    "import matplotlib.pyplot as plt\n",
    "import seaborn as sns\n",
    "import statsmodels.formula.api as smf\n",
    "import statsmodels.api as sm"
   ]
  },
  {
   "cell_type": "code",
   "execution_count": 29,
   "metadata": {},
   "outputs": [
    {
     "name": "stderr",
     "output_type": "stream",
     "text": [
      "/var/folders/3z/db289jnj3cdd97p1_ybqywr00000gn/T/ipykernel_96585/3245627957.py:1: DtypeWarning: Columns (9,15,16,32,34,35,36,37,38) have mixed types. Specify dtype option on import or set low_memory=False.\n",
      "  age_grups_incidence = pd.read_csv(\"./final_dataset/age_group_incidence.csv\").drop(\"category_y\", axis=1)\n"
     ]
    }
   ],
   "source": [
    "age_grups_incidence = pd.read_csv(\"./final_dataset/age_group_incidence.csv\").drop(\"category_y\", axis=1)"
   ]
  },
  {
   "cell_type": "code",
   "execution_count": 30,
   "metadata": {},
   "outputs": [],
   "source": [
    "age_groups = [\"до 1 р.\", \"1-4 р.\", \"5-9 р.\", \"10-14р\", \"15-19р\", \n",
    "              \"в т.ч. 15-17р\",\t\"20-24р\",\t\"25-29р\", \"30-34р\",\n",
    "              \"35-39р\", \"40-44р\", \"45-49р\", \"50-54р\", \"55-59р\", \n",
    "              \"60-64р\", \"65-69р\",\t\"70-74р\",\t\"75-79р\",\t\"80-84р\",\t\"85 та старші\"]\n",
    "\n",
    "age_group_df = [age_grups_incidence[age_grups_incidence[\"age_group\"] == group] for group in age_groups]"
   ]
  },
  {
   "cell_type": "markdown",
   "metadata": {},
   "source": [
    "Drop missing values for the time being"
   ]
  },
  {
   "cell_type": "code",
   "execution_count": 31,
   "metadata": {},
   "outputs": [],
   "source": [
    "\n",
    "age_grups_incidence = age_grups_incidence.dropna()\n",
    "\n",
    "gdp_numeric = pd.to_numeric(age_grups_incidence[\"gdp\"], errors=\"coerce\")\n",
    "mask_convertible = gdp_numeric.notna()\n",
    "\n",
    "age_grups_incidence = age_grups_incidence[mask_convertible]\n",
    "\n",
    "age_grups_incidence[\"gdp\"] = age_grups_incidence.gdp.astype(\"float64\")\n",
    "\n",
    "age_grups_incidence[\"normalized_gdp\"] = age_grups_incidence[\"gdp\"]/age_grups_incidence[\"cpi\"]"
   ]
  },
  {
   "cell_type": "code",
   "execution_count": 32,
   "metadata": {},
   "outputs": [
    {
     "data": {
      "text/plain": [
       "Index(['Unnamed: 0.1', 'year', 'category_x', 'region', 'age_group',\n",
       "       'incidence', 'nhospotal', 'nbeds', 'ybeds', 'nill', 'nvillage_ill',\n",
       "       'bed_days', 'dvisits', 'hvisits', 'ndoctors', 'nnursing', 'nx_ray',\n",
       "       'nflurography', 'nradiology', 'nradlab', 'nсt', 'ncardiogram',\n",
       "       'ndiaglab', 'nbacter', 'nbiochem', 'ncyto', 'nimun', 'nphysic',\n",
       "       'nendoscop', 'nultrasound', 'ndialysis', 'gdp', 'Unnamed: 0',\n",
       "       'air_pollution', 'polluted_dumps', 'not_cleaned_dumps',\n",
       "       'dumps_not_cleaned_enough', 'num_clearing_plants', 'cpi', 'population',\n",
       "       'normalized_gdp'],\n",
       "      dtype='object')"
      ]
     },
     "execution_count": 32,
     "metadata": {},
     "output_type": "execute_result"
    }
   ],
   "source": [
    "age_grups_incidence.columns"
   ]
  },
  {
   "cell_type": "markdown",
   "metadata": {},
   "source": [
    "# Linear-Linear models"
   ]
  },
  {
   "cell_type": "code",
   "execution_count": 33,
   "metadata": {},
   "outputs": [],
   "source": [
    "def fit_models(predicted: str, ommited_vars: list[str], df: pd.DataFrame) -> dict[str, sm.OLS]:\n",
    "    models = {}\n",
    "\n",
    "    for group_name, group_data in age_grups_incidence.groupby(\"age_group\"):\n",
    "        predictors = group_data.drop(columns=ommited_vars + [predicted], errors=\"ignore\")\n",
    "        \n",
    "        predictors = predictors.select_dtypes(include=[\"number\"])\n",
    "        \n",
    "        X = predictors.copy()\n",
    "        y = group_data[predicted]\n",
    "        \n",
    "        X = sm.add_constant(X)\n",
    "        \n",
    "        best_model = sm.OLS(y, X).fit()\n",
    "\n",
    "        best_aic = np.inf\n",
    "\n",
    "        to_drop = None\n",
    "\n",
    "        while len(X.columns) > 0:\n",
    "            aic_not_changed = True\n",
    "                \n",
    "            for col in X.columns:\n",
    "                temp_X = X.drop(col, axis = 1)\n",
    "                temp_model = sm.OLS(y, temp_X).fit()\n",
    "                if temp_model.aic < best_aic:\n",
    "                    best_aic = temp_model.aic\n",
    "                    best_model = temp_model\n",
    "                    to_drop = col\n",
    "                    aic_not_changed = False\n",
    "\n",
    "            if aic_not_changed:\n",
    "                print(group_name)\n",
    "                break\n",
    "            X = X.drop(to_drop, axis = 1)\n",
    "\n",
    "        models[group_name] = best_model\n",
    "\n",
    "    return models\n"
   ]
  },
  {
   "cell_type": "code",
   "execution_count": 34,
   "metadata": {},
   "outputs": [
    {
     "name": "stdout",
     "output_type": "stream",
     "text": [
      "1-4 р.\n",
      "10-14р\n",
      "15-19р\n",
      "20-24р\n",
      "25-29р\n",
      "30-34р\n",
      "35-39р\n",
      "40-44р\n",
      "45-49р\n",
      "5-9 р.\n",
      "50-54р\n",
      "55-59р\n",
      "60-64р\n",
      "65-69р\n",
      "70-74р\n",
      "75-79р\n",
      "80-84р\n",
      "85 та старші\n",
      "в т.ч. 15-17р\n",
      "до 1 р.\n"
     ]
    }
   ],
   "source": [
    "models = fit_models(\"incidence\", [\"age_group\", \"year\", \"gdp\", \"region\", \"category_x\"], age_grups_incidence)"
   ]
  },
  {
   "cell_type": "code",
   "execution_count": 37,
   "metadata": {},
   "outputs": [
    {
     "name": "stdout",
     "output_type": "stream",
     "text": [
      "до 1 р. 0.01881337090705959\n",
      "1-4 р. 0.01809259839590094\n",
      "5-9 р. 0.09260676928989509\n",
      "10-14р 0.01693226616288357\n",
      "15-19р 0.09949528969813404\n",
      "в т.ч. 15-17р 0.08173806983148535\n",
      "20-24р 0.10571406438968112\n",
      "25-29р 0.1007244062530499\n",
      "30-34р 0.09014301220770915\n",
      "35-39р 0.016283856629521143\n",
      "40-44р 0.08871551869297789\n",
      "45-49р 0.018377612701082735\n",
      "50-54р 0.10212980661735627\n",
      "55-59р 0.02172017200412768\n",
      "60-64р 0.10525527406093105\n",
      "65-69р 0.02107320916785449\n",
      "70-74р 0.0309124275568865\n",
      "75-79р 0.10162135639280945\n",
      "80-84р 0.09666135106793639\n",
      "85 та старші 0.02033757538858716\n"
     ]
    }
   ],
   "source": [
    "for group in age_groups:\n",
    "    print(group, models[group].rsquared_adj)"
   ]
  },
  {
   "cell_type": "markdown",
   "metadata": {},
   "source": [
    "We have adjusted $R^2$ as big as 0.1."
   ]
  },
  {
   "cell_type": "markdown",
   "metadata": {},
   "source": [
    "# Log-linear models"
   ]
  },
  {
   "cell_type": "code",
   "execution_count": null,
   "metadata": {},
   "outputs": [],
   "source": []
  }
 ],
 "metadata": {
  "kernelspec": {
   "display_name": ".env",
   "language": "python",
   "name": "python3"
  },
  "language_info": {
   "codemirror_mode": {
    "name": "ipython",
    "version": 3
   },
   "file_extension": ".py",
   "mimetype": "text/x-python",
   "name": "python",
   "nbconvert_exporter": "python",
   "pygments_lexer": "ipython3",
   "version": "3.11.11"
  }
 },
 "nbformat": 4,
 "nbformat_minor": 2
}
