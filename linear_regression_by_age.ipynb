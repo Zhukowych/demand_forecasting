{
 "cells": [
  {
   "cell_type": "code",
   "execution_count": 167,
   "metadata": {},
   "outputs": [],
   "source": [
    "import pandas as pd\n",
    "import numpy as np\n",
    "import matplotlib.pyplot as plt\n",
    "import seaborn as sns\n",
    "import statsmodels.formula.api as smf\n",
    "import statsmodels.api as sm\n",
    "\n",
    "from sklearn.model_selection import train_test_split\n",
    "from sklearn.metrics import mean_squared_error"
   ]
  },
  {
   "cell_type": "code",
   "execution_count": 168,
   "metadata": {},
   "outputs": [
    {
     "name": "stderr",
     "output_type": "stream",
     "text": [
      "/var/folders/3z/db289jnj3cdd97p1_ybqywr00000gn/T/ipykernel_96585/3245627957.py:1: DtypeWarning: Columns (9,15,16,32,34,35,36,37,38) have mixed types. Specify dtype option on import or set low_memory=False.\n",
      "  age_grups_incidence = pd.read_csv(\"./final_dataset/age_group_incidence.csv\").drop(\"category_y\", axis=1)\n"
     ]
    }
   ],
   "source": [
    "age_grups_incidence = pd.read_csv(\"./final_dataset/age_group_incidence.csv\").drop(\"category_y\", axis=1)"
   ]
  },
  {
   "cell_type": "code",
   "execution_count": 169,
   "metadata": {},
   "outputs": [],
   "source": [
    "age_groups = [\"до 1 р.\", \"1-4 р.\", \"5-9 р.\", \"10-14р\", \"15-19р\", \n",
    "              \"в т.ч. 15-17р\",\t\"20-24р\",\t\"25-29р\", \"30-34р\",\n",
    "              \"35-39р\", \"40-44р\", \"45-49р\", \"50-54р\", \"55-59р\", \n",
    "              \"60-64р\", \"65-69р\",\t\"70-74р\",\t\"75-79р\",\t\"80-84р\",\t\"85 та старші\"]\n",
    "\n",
    "age_group_df = [age_grups_incidence[age_grups_incidence[\"age_group\"] == group] for group in age_groups]"
   ]
  },
  {
   "cell_type": "markdown",
   "metadata": {},
   "source": [
    "Drop missing values for the time being"
   ]
  },
  {
   "cell_type": "code",
   "execution_count": 170,
   "metadata": {},
   "outputs": [],
   "source": [
    "\n",
    "age_grups_incidence = age_grups_incidence.dropna()\n",
    "\n",
    "gdp_numeric = pd.to_numeric(age_grups_incidence[\"gdp\"], errors=\"coerce\")\n",
    "mask_convertible = gdp_numeric.notna()\n",
    "\n",
    "age_grups_incidence = age_grups_incidence[mask_convertible]\n",
    "\n",
    "age_grups_incidence[\"gdp\"] = age_grups_incidence.gdp.astype(\"float64\")\n",
    "\n",
    "age_grups_incidence[\"normalized_gdp\"] = age_grups_incidence[\"gdp\"]/age_grups_incidence[\"cpi\"]"
   ]
  },
  {
   "cell_type": "code",
   "execution_count": 171,
   "metadata": {},
   "outputs": [
    {
     "data": {
      "text/plain": [
       "Index(['Unnamed: 0.1', 'year', 'category_x', 'region', 'age_group',\n",
       "       'incidence', 'nhospotal', 'nbeds', 'ybeds', 'nill', 'nvillage_ill',\n",
       "       'bed_days', 'dvisits', 'hvisits', 'ndoctors', 'nnursing', 'nx_ray',\n",
       "       'nflurography', 'nradiology', 'nradlab', 'nсt', 'ncardiogram',\n",
       "       'ndiaglab', 'nbacter', 'nbiochem', 'ncyto', 'nimun', 'nphysic',\n",
       "       'nendoscop', 'nultrasound', 'ndialysis', 'gdp', 'Unnamed: 0',\n",
       "       'air_pollution', 'polluted_dumps', 'not_cleaned_dumps',\n",
       "       'dumps_not_cleaned_enough', 'num_clearing_plants', 'cpi', 'population',\n",
       "       'normalized_gdp'],\n",
       "      dtype='object')"
      ]
     },
     "execution_count": 171,
     "metadata": {},
     "output_type": "execute_result"
    }
   ],
   "source": [
    "age_grups_incidence.columns"
   ]
  },
  {
   "cell_type": "markdown",
   "metadata": {},
   "source": [
    "# Splitting datasets to compare linear and log-linear models"
   ]
  },
  {
   "cell_type": "code",
   "execution_count": 172,
   "metadata": {},
   "outputs": [],
   "source": [
    "train_idx, test_idx = train_test_split(age_grups_incidence.index, test_size=0.3, random_state=42)\n",
    "\n",
    "\n",
    "X_train = age_grups_incidence.loc[train_idx]\n",
    "X_test = age_grups_incidence.loc[test_idx]"
   ]
  },
  {
   "cell_type": "markdown",
   "metadata": {},
   "source": [
    "# Linear-Linear models"
   ]
  },
  {
   "cell_type": "code",
   "execution_count": 173,
   "metadata": {},
   "outputs": [],
   "source": [
    "def fit_models(predicted: str, ommited_vars: list[str], df: pd.DataFrame) -> dict[str, sm.OLS]:\n",
    "    models = {}\n",
    "\n",
    "    for group_name, group_data in df.groupby(\"age_group\"):\n",
    "        predictors = group_data.copy().drop(columns=ommited_vars + [predicted], errors=\"ignore\")\n",
    "        \n",
    "        predictors = predictors.select_dtypes(include=[\"number\"])\n",
    "        \n",
    "        X = predictors.copy()\n",
    "        y = group_data[predicted]\n",
    "        \n",
    "        X = sm.add_constant(X)\n",
    "        \n",
    "        best_model = sm.OLS(y, X).fit()\n",
    "\n",
    "        best_aic = np.inf\n",
    "\n",
    "        to_drop = None\n",
    "\n",
    "        while len(X.columns) > 0:\n",
    "            aic_not_changed = True\n",
    "                \n",
    "            for col in X.columns:\n",
    "                temp_X = X.drop(col, axis = 1)\n",
    "                temp_model = sm.OLS(y, temp_X).fit()\n",
    "                if temp_model.aic < best_aic:\n",
    "                    best_aic = temp_model.aic\n",
    "                    best_model = temp_model\n",
    "                    to_drop = col\n",
    "                    aic_not_changed = False\n",
    "\n",
    "            if aic_not_changed:\n",
    "                print(group_name)\n",
    "                break\n",
    "            X = X.drop(to_drop, axis = 1)\n",
    "\n",
    "        models[group_name] = best_model\n",
    "\n",
    "    return models\n"
   ]
  },
  {
   "cell_type": "code",
   "execution_count": 174,
   "metadata": {},
   "outputs": [
    {
     "name": "stdout",
     "output_type": "stream",
     "text": [
      "1-4 р.\n",
      "10-14р\n",
      "15-19р\n",
      "20-24р\n",
      "25-29р\n",
      "30-34р\n",
      "35-39р\n",
      "40-44р\n",
      "45-49р\n",
      "5-9 р.\n",
      "50-54р\n",
      "55-59р\n",
      "60-64р\n",
      "65-69р\n",
      "70-74р\n",
      "75-79р\n",
      "80-84р\n",
      "85 та старші\n",
      "в т.ч. 15-17р\n",
      "до 1 р.\n"
     ]
    }
   ],
   "source": [
    "models = fit_models(\"incidence\", [\"age_group\", \"year\", \"gdp\", \"region\", \"category_x\"], X_train)"
   ]
  },
  {
   "cell_type": "markdown",
   "metadata": {},
   "source": [
    "# Log-linear models"
   ]
  },
  {
   "cell_type": "code",
   "execution_count": 175,
   "metadata": {},
   "outputs": [
    {
     "name": "stdout",
     "output_type": "stream",
     "text": [
      "1-4 р.\n",
      "10-14р\n",
      "15-19р\n",
      "20-24р\n",
      "25-29р\n",
      "30-34р\n",
      "35-39р\n",
      "40-44р\n",
      "45-49р\n",
      "5-9 р.\n",
      "50-54р\n",
      "55-59р\n",
      "60-64р\n",
      "65-69р\n",
      "70-74р\n",
      "75-79р\n",
      "80-84р\n",
      "85 та старші\n",
      "в т.ч. 15-17р\n",
      "до 1 р.\n"
     ]
    }
   ],
   "source": [
    "X_train_log = X_train.copy()\n",
    "X_train_log = X_train_log[X_train_log[\"incidence\"] > 0]\n",
    "X_train_log[\"log_incidence\"] = np.log(X_train_log[\"incidence\"])\n",
    "log_models = fit_models(\"log_incidence\", [\"incidence\",\"age_group\", \"year\", \"gdp\", \"region\", \"category_x\"], X_train_log)\n",
    "\n"
   ]
  },
  {
   "cell_type": "code",
   "execution_count": 197,
   "metadata": {},
   "outputs": [
    {
     "name": "stderr",
     "output_type": "stream",
     "text": [
      "/Users/vitya/Documents/econometrics/demand_forecasting/.env/lib/python3.11/site-packages/pandas/core/arraylike.py:399: RuntimeWarning: invalid value encountered in log\n",
      "  result = getattr(ufunc, method)(*inputs, **kwargs)\n",
      "/Users/vitya/Documents/econometrics/demand_forecasting/.env/lib/python3.11/site-packages/pandas/core/arraylike.py:399: RuntimeWarning: invalid value encountered in log\n",
      "  result = getattr(ufunc, method)(*inputs, **kwargs)\n"
     ]
    }
   ],
   "source": [
    "X_test = X_test[X_test[\"incidence\"] > 0]\n",
    "\n",
    "is_linear_better_models = {}\n",
    "is_log_better_models = {}\n",
    "\n",
    "for group, group_data in X_test.groupby(\"age_group\"):\n",
    "    lin_X_test_curr_group = group_data[models[group].model.exog_names[1:]].copy()\n",
    "    log_X_test_curr_group = group_data[log_models[group].model.exog_names[1:]].copy()\n",
    "\n",
    "    y_lin_pred = models[group].predict(sm.add_constant(lin_X_test_curr_group))+1\n",
    "    y_log_pred = log_models[group].predict(sm.add_constant(log_X_test_curr_group))\n",
    "    log_of_lin_preds = np.log(y_lin_pred)\n",
    "\n",
    "    lin_X_test_curr_group[\"log(lin)-log\"] = log_of_lin_preds - y_log_pred\n",
    "\n",
    "    lin_X_test_curr_group = lin_X_test_curr_group[\"log(lin)-log\"].fillna(0)\n",
    "\n",
    "    is_linear_better_models[group] = sm.OLS(group_data[\"incidence\"], sm.add_constant(lin_X_test_curr_group)).fit()\n",
    "\n",
    "    exp_of_log_preds = np.exp(y_log_pred)\n",
    "    log_X_test_curr_group[\"lin-exp(log)\"] = y_lin_pred - exp_of_log_preds\n",
    "\n",
    "    is_log_better_models[group] = sm.OLS(np.log(group_data[\"incidence\"]+1), sm.add_constant(log_X_test_curr_group)).fit()"
   ]
  },
  {
   "cell_type": "code",
   "execution_count": 195,
   "metadata": {},
   "outputs": [
    {
     "name": "stdout",
     "output_type": "stream",
     "text": [
      "for group 5-9 р. log model may be bettr\n",
      "for group 15-19р log model may be bettr\n",
      "for group 20-24р log model may be bettr\n",
      "for group 25-29р log model may be bettr\n",
      "for group 30-34р log model may be bettr\n",
      "for group 35-39р log model may be bettr\n",
      "for group 40-44р log model may be bettr\n",
      "for group 45-49р log model may be bettr\n",
      "for group 50-54р log model may be bettr\n",
      "for group 55-59р log model may be bettr\n",
      "for group 60-64р log model may be bettr\n",
      "for group 65-69р log model may be bettr\n",
      "for group 70-74р log model may be bettr\n",
      "for group 75-79р log model may be bettr\n",
      "for group 80-84р log model may be bettr\n",
      "for group 85 та старші log model may be bettr\n"
     ]
    }
   ],
   "source": [
    "p_values_is_linear_better = [int(is_linear_better_models[group].pvalues.get(\"log(lin)-log\")>0.05) for group in age_groups]\n",
    "\n",
    "for i, group in enumerate(age_groups):\n",
    "    if p_values_is_linear_better[i] == 0:\n",
    "        print(f\"for group {group} log model may be bettr\")"
   ]
  },
  {
   "cell_type": "code",
   "execution_count": 203,
   "metadata": {},
   "outputs": [
    {
     "name": "stdout",
     "output_type": "stream",
     "text": [
      "for group 20-24р lin model may be bettr, pvalue is 0.017489980681450582\n",
      "for group 25-29р lin model may be bettr, pvalue is 0.024364614747046\n",
      "for group 40-44р lin model may be bettr, pvalue is 0.026840706680787488\n",
      "for group 65-69р lin model may be bettr, pvalue is 0.018143841212603016\n",
      "for group 85 та старші lin model may be bettr, pvalue is 0.003107229831960195\n"
     ]
    }
   ],
   "source": [
    "\n",
    "p_values_is_log_better = [int(is_log_better_models[group].pvalues.get(\"lin-exp(log)\")>0.05) for group in age_groups]\n",
    "\n",
    "for i, group in enumerate(age_groups):\n",
    "    if p_values_is_log_better[i] == 0:\n",
    "        print(f\"for group {group} lin model may be bettr, pvalue is {is_log_better_models[group].pvalues.get('lin-exp(log)')}\")"
   ]
  }
 ],
 "metadata": {
  "kernelspec": {
   "display_name": ".env",
   "language": "python",
   "name": "python3"
  },
  "language_info": {
   "codemirror_mode": {
    "name": "ipython",
    "version": 3
   },
   "file_extension": ".py",
   "mimetype": "text/x-python",
   "name": "python",
   "nbconvert_exporter": "python",
   "pygments_lexer": "ipython3",
   "version": "3.11.11"
  }
 },
 "nbformat": 4,
 "nbformat_minor": 2
}
